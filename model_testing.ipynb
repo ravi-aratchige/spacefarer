{
 "cells": [
  {
   "cell_type": "markdown",
   "id": "8436b7ab",
   "metadata": {},
   "source": [
    "# Personality Prediction System (Model Testing)"
   ]
  },
  {
   "cell_type": "markdown",
   "id": "d958dee6",
   "metadata": {},
   "source": [
    "This notebook will perform the following tasks:\n",
    "\n",
    "1. <b>Preprocessing</b> the testing data\n",
    "2. <b>Deserializing</b> the trained model\n",
    "3. <b>Making predictions</b> using the testing data and the model\n",
    "4. <b>Evaluating</b> the performance of the model\n",
    "\n",
    "Based on the performance of the model, its hyperparameters can be fine-tuned to ensure high levels of accuracy, precision and recall.\n",
    "\n",
    "This notebook continues off from `model_training.ipynb`.\n",
    "\n",
    "---"
   ]
  },
  {
   "cell_type": "markdown",
   "id": "e6058473",
   "metadata": {},
   "source": [
    "## Initialization"
   ]
  },
  {
   "cell_type": "code",
   "execution_count": 1,
   "id": "69432328",
   "metadata": {},
   "outputs": [],
   "source": [
    "# General imports\n",
    "\n",
    "import numpy as np\n",
    "import pandas as pd"
   ]
  },
  {
   "cell_type": "code",
   "execution_count": 2,
   "id": "7e52b2c2",
   "metadata": {},
   "outputs": [
    {
     "data": {
      "text/html": [
       "<div>\n",
       "<style scoped>\n",
       "    .dataframe tbody tr th:only-of-type {\n",
       "        vertical-align: middle;\n",
       "    }\n",
       "\n",
       "    .dataframe tbody tr th {\n",
       "        vertical-align: top;\n",
       "    }\n",
       "\n",
       "    .dataframe thead th {\n",
       "        text-align: right;\n",
       "    }\n",
       "</style>\n",
       "<table border=\"1\" class=\"dataframe\">\n",
       "  <thead>\n",
       "    <tr style=\"text-align: right;\">\n",
       "      <th></th>\n",
       "      <th>Gender</th>\n",
       "      <th>Age</th>\n",
       "      <th>openness</th>\n",
       "      <th>neuroticism</th>\n",
       "      <th>conscientiousness</th>\n",
       "      <th>agreeableness</th>\n",
       "      <th>extraversion</th>\n",
       "      <th>Personality (class label)</th>\n",
       "    </tr>\n",
       "  </thead>\n",
       "  <tbody>\n",
       "    <tr>\n",
       "      <th>0</th>\n",
       "      <td>Female</td>\n",
       "      <td>20</td>\n",
       "      <td>7</td>\n",
       "      <td>9</td>\n",
       "      <td>9</td>\n",
       "      <td>5</td>\n",
       "      <td>5</td>\n",
       "      <td>dependable</td>\n",
       "    </tr>\n",
       "    <tr>\n",
       "      <th>1</th>\n",
       "      <td>Male</td>\n",
       "      <td>17</td>\n",
       "      <td>5</td>\n",
       "      <td>4</td>\n",
       "      <td>5</td>\n",
       "      <td>2</td>\n",
       "      <td>4</td>\n",
       "      <td>serious</td>\n",
       "    </tr>\n",
       "    <tr>\n",
       "      <th>2</th>\n",
       "      <td>Female</td>\n",
       "      <td>25</td>\n",
       "      <td>5</td>\n",
       "      <td>5</td>\n",
       "      <td>7</td>\n",
       "      <td>2</td>\n",
       "      <td>4</td>\n",
       "      <td>serious</td>\n",
       "    </tr>\n",
       "    <tr>\n",
       "      <th>3</th>\n",
       "      <td>Female</td>\n",
       "      <td>18</td>\n",
       "      <td>6</td>\n",
       "      <td>2</td>\n",
       "      <td>7</td>\n",
       "      <td>4</td>\n",
       "      <td>7</td>\n",
       "      <td>serious</td>\n",
       "    </tr>\n",
       "    <tr>\n",
       "      <th>4</th>\n",
       "      <td>Female</td>\n",
       "      <td>19</td>\n",
       "      <td>2</td>\n",
       "      <td>4</td>\n",
       "      <td>7</td>\n",
       "      <td>1</td>\n",
       "      <td>3</td>\n",
       "      <td>responsible</td>\n",
       "    </tr>\n",
       "    <tr>\n",
       "      <th>...</th>\n",
       "      <td>...</td>\n",
       "      <td>...</td>\n",
       "      <td>...</td>\n",
       "      <td>...</td>\n",
       "      <td>...</td>\n",
       "      <td>...</td>\n",
       "      <td>...</td>\n",
       "      <td>...</td>\n",
       "    </tr>\n",
       "    <tr>\n",
       "      <th>310</th>\n",
       "      <td>Female</td>\n",
       "      <td>19</td>\n",
       "      <td>6</td>\n",
       "      <td>5</td>\n",
       "      <td>6</td>\n",
       "      <td>4</td>\n",
       "      <td>3</td>\n",
       "      <td>extraverted</td>\n",
       "    </tr>\n",
       "    <tr>\n",
       "      <th>311</th>\n",
       "      <td>Male</td>\n",
       "      <td>18</td>\n",
       "      <td>2</td>\n",
       "      <td>5</td>\n",
       "      <td>8</td>\n",
       "      <td>3</td>\n",
       "      <td>7</td>\n",
       "      <td>dependable</td>\n",
       "    </tr>\n",
       "    <tr>\n",
       "      <th>312</th>\n",
       "      <td>Male</td>\n",
       "      <td>18</td>\n",
       "      <td>7</td>\n",
       "      <td>5</td>\n",
       "      <td>6</td>\n",
       "      <td>2</td>\n",
       "      <td>7</td>\n",
       "      <td>serious</td>\n",
       "    </tr>\n",
       "    <tr>\n",
       "      <th>313</th>\n",
       "      <td>Male</td>\n",
       "      <td>23</td>\n",
       "      <td>6</td>\n",
       "      <td>7</td>\n",
       "      <td>5</td>\n",
       "      <td>4</td>\n",
       "      <td>3</td>\n",
       "      <td>extraverted</td>\n",
       "    </tr>\n",
       "    <tr>\n",
       "      <th>314</th>\n",
       "      <td>Female</td>\n",
       "      <td>18</td>\n",
       "      <td>5</td>\n",
       "      <td>7</td>\n",
       "      <td>3</td>\n",
       "      <td>5</td>\n",
       "      <td>6</td>\n",
       "      <td>extraverted</td>\n",
       "    </tr>\n",
       "  </tbody>\n",
       "</table>\n",
       "<p>315 rows × 8 columns</p>\n",
       "</div>"
      ],
      "text/plain": [
       "     Gender  Age  openness  neuroticism  conscientiousness  agreeableness   \n",
       "0    Female   20         7            9                  9              5  \\\n",
       "1      Male   17         5            4                  5              2   \n",
       "2    Female   25         5            5                  7              2   \n",
       "3    Female   18         6            2                  7              4   \n",
       "4    Female   19         2            4                  7              1   \n",
       "..      ...  ...       ...          ...                ...            ...   \n",
       "310  Female   19         6            5                  6              4   \n",
       "311    Male   18         2            5                  8              3   \n",
       "312    Male   18         7            5                  6              2   \n",
       "313    Male   23         6            7                  5              4   \n",
       "314  Female   18         5            7                  3              5   \n",
       "\n",
       "     extraversion Personality (class label)  \n",
       "0               5                dependable  \n",
       "1               4                   serious  \n",
       "2               4                   serious  \n",
       "3               7                   serious  \n",
       "4               3               responsible  \n",
       "..            ...                       ...  \n",
       "310             3               extraverted  \n",
       "311             7                dependable  \n",
       "312             7                   serious  \n",
       "313             3               extraverted  \n",
       "314             6               extraverted  \n",
       "\n",
       "[315 rows x 8 columns]"
      ]
     },
     "execution_count": 2,
     "metadata": {},
     "output_type": "execute_result"
    }
   ],
   "source": [
    "# Creating a Pandas dataframe using the training data\n",
    "\n",
    "df_test = pd.read_csv('./data/test.csv')\n",
    "\n",
    "df_test"
   ]
  },
  {
   "cell_type": "markdown",
   "id": "36336585",
   "metadata": {},
   "source": [
    "## Exploratory Data Analysis"
   ]
  },
  {
   "cell_type": "code",
   "execution_count": 3,
   "id": "531f64f2",
   "metadata": {},
   "outputs": [
    {
     "data": {
      "text/plain": [
       "Gender                       No missing values\n",
       "Age                          No missing values\n",
       "openness                     No missing values\n",
       "neuroticism                  No missing values\n",
       "conscientiousness            No missing values\n",
       "agreeableness                No missing values\n",
       "extraversion                 No missing values\n",
       "Personality (class label)    No missing values\n",
       "dtype: object"
      ]
     },
     "execution_count": 3,
     "metadata": {},
     "output_type": "execute_result"
    }
   ],
   "source": [
    "# Checking whether the dataset has missing values:\n",
    "\n",
    "missing_values = df_test.isnull().sum()\n",
    "\n",
    "missing_values = missing_values.apply(lambda x: f'{x} missing values' if x > 0 else 'No missing values')\n",
    "\n",
    "missing_values"
   ]
  },
  {
   "cell_type": "code",
   "execution_count": 7,
   "id": "0f9e9761",
   "metadata": {},
   "outputs": [
    {
     "name": "stdout",
     "output_type": "stream",
     "text": [
      "['dependable' 'extraverted' 'lively' 'responsible' 'serious']\n",
      "There are 5 unique targets in the dataframe.\n"
     ]
    }
   ],
   "source": [
    "# Checking how many unique targets are in the dataframe:\n",
    "\n",
    "targets = df_test.iloc[:, -1]\n",
    "unique_targets = np.unique(targets)\n",
    "print(unique_targets)\n",
    "print(f'There are {len(unique_targets)} unique targets in the dataframe.')"
   ]
  },
  {
   "cell_type": "markdown",
   "id": "fca670e2",
   "metadata": {},
   "source": [
    "Both the training data and the testing data have the same number of unique targets, so we have no issues regarding targets."
   ]
  }
 ],
 "metadata": {
  "kernelspec": {
   "display_name": "Python 3 (ipykernel)",
   "language": "python",
   "name": "python3"
  },
  "language_info": {
   "codemirror_mode": {
    "name": "ipython",
    "version": 3
   },
   "file_extension": ".py",
   "mimetype": "text/x-python",
   "name": "python",
   "nbconvert_exporter": "python",
   "pygments_lexer": "ipython3",
   "version": "3.11.3"
  }
 },
 "nbformat": 4,
 "nbformat_minor": 5
}
